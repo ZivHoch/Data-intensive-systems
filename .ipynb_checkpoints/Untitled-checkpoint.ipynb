{
 "cells": [
  {
   "cell_type": "code",
   "execution_count": 1,
   "id": "3882a217-cc32-4491-8205-447d9388e9ab",
   "metadata": {},
   "outputs": [],
   "source": [
    "import random"
   ]
  },
  {
   "cell_type": "code",
   "execution_count": 2,
   "id": "3262b08e-6922-4a45-b716-41567bbb8bda",
   "metadata": {},
   "outputs": [],
   "source": [
    "class tree:\n",
    "    def __init__(self, processid=\"\"):\n",
    "        self.processid = processid\n",
    "        self.t_to = {}\n",
    "        self.t_from = {}\n",
    "    def add_to(self,process):\n",
    "        if id not in self.t_to:\n",
    "            self.t_to[process.processid] = process \n",
    "    def add_from(self,process):\n",
    "        if id not in self.t_from:\n",
    "            self.t_from[process.processid] = process \n",
    "    "
   ]
  },
  {
   "cell_type": "code",
   "execution_count": 28,
   "id": "d1fbd2a8-1c20-47d0-a614-550bdeb5aeb7",
   "metadata": {},
   "outputs": [
    {
     "name": "stdout",
     "output_type": "stream",
     "text": [
      "Layers distribution: [1, 3]\n",
      "Tree structure:\n",
      "Node 0:\n",
      "  To: [1, 2, 3]\n",
      "  From: []\n",
      "Node 1:\n",
      "  To: []\n",
      "  From: [0]\n",
      "Node 2:\n",
      "  To: []\n",
      "  From: [0]\n",
      "Node 3:\n",
      "  To: []\n",
      "  From: [0]\n"
     ]
    }
   ],
   "source": [
    "def create_tree(num_of_nodes, threshold_depth):\n",
    "    # Initialize nodes\n",
    "    node_list = {i: tree(i) for i in range(num_of_nodes + 1)}\n",
    "\n",
    "    # Layer distribution\n",
    "    layers = [] \n",
    "    cur_num_of_nodes = num_of_nodes\n",
    "    cur_depth = threshold_depth\n",
    "\n",
    "    while cur_num_of_nodes > 0 and cur_depth > 0:\n",
    "        cur_rand = random.randint(1,cur_num_of_nodes)\n",
    "        layers.append(cur_rand)\n",
    "        cur_num_of_nodes -= cur_rand\n",
    "        cur_depth -= 1\n",
    "    if cur_depth == 0 and cur_num_of_nodes > 0:\n",
    "        layers[-1] =layers[-1] + cur_num_of_nodes\n",
    "\n",
    "    \n",
    "    layers = [1] + layers  # Ensure the first layer always has the root node\n",
    "    print(\"Layers distribution:\", layers)\n",
    "\n",
    "    # Connecting nodes\n",
    "    start = 1\n",
    "    for depth in range(1, len(layers)):\n",
    "        end = start + layers[depth]\n",
    "        for i in range(start, end):\n",
    "            if depth == 1:\n",
    "                # Connect to \"null\" node (node 0)\n",
    "                node_list[0].add_to(node_list[i])\n",
    "                node_list[i].add_from(node_list[0])\n",
    "            else:\n",
    "                # Connect to at least one node from the previous layer\n",
    "                prev_start = start - layers[depth - 1]\n",
    "                prev_end = start\n",
    "                connected = False\n",
    "                while not connected and prev_start < prev_end:\n",
    "                    for j in range(prev_start, prev_end):\n",
    "                        if random.uniform(0, 1) > 0.5:\n",
    "                            node_list[j].add_to(node_list[i])\n",
    "                            node_list[i].add_from(node_list[j])\n",
    "                            connected = True\n",
    "                    if not connected:\n",
    "                        # Ensure at least one connection\n",
    "                        j = random.randint(prev_start, prev_end - 1)\n",
    "                        node_list[j].add_to(node_list[i])\n",
    "                        node_list[i].add_from(node_list[j])\n",
    "                        connected = True\n",
    "            # Connect to nodes from any previous layer with a probability\n",
    "            for prev_layer in range(1, depth):\n",
    "                prev_start = sum(layers[1:prev_layer])\n",
    "                prev_end = prev_start + layers[prev_layer]\n",
    "                for j in range(prev_start, prev_end):\n",
    "                    if random.uniform(0, 1) > 0.5:\n",
    "                        node_list[j].add_to(node_list[i])\n",
    "                        node_list[i].add_from(node_list[j])\n",
    "\n",
    "\n",
    "        start = end\n",
    "\n",
    "    # Print the structure of the tree\n",
    "    print(\"Tree structure:\")\n",
    "    for x in node_list:\n",
    "        print(f\"Node {node_list[x].processid}:\")\n",
    "        print(\"  To:\", [node_list[x].t_to[y].processid for y in node_list[x].t_to])\n",
    "        print(\"  From:\", [node_list[x].t_from[y].processid for y in node_list[x].t_from])\n",
    "\n",
    "\n",
    "create_tree(3, 3)\n"
   ]
  },
  {
   "cell_type": "code",
   "execution_count": null,
   "id": "df91905b-812a-4c94-bd00-a48adabf00ec",
   "metadata": {},
   "outputs": [],
   "source": []
  }
 ],
 "metadata": {
  "kernelspec": {
   "display_name": "Python 3 (ipykernel)",
   "language": "python",
   "name": "python3"
  },
  "language_info": {
   "codemirror_mode": {
    "name": "ipython",
    "version": 3
   },
   "file_extension": ".py",
   "mimetype": "text/x-python",
   "name": "python",
   "nbconvert_exporter": "python",
   "pygments_lexer": "ipython3",
   "version": "3.11.5"
  }
 },
 "nbformat": 4,
 "nbformat_minor": 5
}
