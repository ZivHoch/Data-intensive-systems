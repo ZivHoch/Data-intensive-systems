{
 "cells": [
  {
   "cell_type": "code",
   "execution_count": 2,
   "id": "3882a217-cc32-4491-8205-447d9388e9ab",
   "metadata": {},
   "outputs": [],
   "source": [
    "import numpy as np\n",
    "import random"
   ]
  },
  {
   "cell_type": "code",
   "execution_count": 3,
   "id": "3262b08e-6922-4a45-b716-41567bbb8bda",
   "metadata": {},
   "outputs": [],
   "source": [
    "class tree:\n",
    "    neighbors = {}\n",
    "    def __init__(self,neighbor, processid=\"\"):\n",
    "        self.to = {}\n",
    "        self.from = {}\n",
    "        self.processid = processid\n",
    "    \n",
    "    "
   ]
  },
  {
   "cell_type": "code",
   "execution_count": 67,
   "id": "ddc309ca-4ad3-49cd-af64-42337c05acd6",
   "metadata": {},
   "outputs": [
    {
     "name": "stdout",
     "output_type": "stream",
     "text": [
      "[1, 2, 8]\n",
      "x 2 8\n",
      "cur_count 2\n",
      "2\n",
      "1\n",
      "0\n",
      "-1\n",
      "-2\n",
      "-3\n",
      "-4\n",
      "-5\n",
      "cur_count 1\n",
      "1\n",
      "0\n",
      "-1\n",
      "-2\n",
      "-3\n",
      "-4\n",
      "-5\n",
      "-6\n",
      "x 1 2\n",
      "cur_count 6\n",
      "6\n",
      "5\n",
      "#############\n",
      "1\n",
      "2\n",
      "3\n",
      "4\n",
      "5\n",
      "6\n",
      "7\n",
      "8\n",
      "9\n",
      "10\n"
     ]
    }
   ],
   "source": [
    "def create_tree(num_of_nodes,threshold_depth):\n",
    "    cur_depth = threshold_depth - 1\n",
    "    cur_num_of_nodes = num_of_nodes\n",
    "    layers = [1]\n",
    "    node_list = {}\n",
    "    for i in range(1,num_of_nodes+1):\n",
    "        cur_t = tree({},i)\n",
    "        node_list[i] = cur_t\n",
    "    while cur_num_of_nodes > 0 and cur_depth > 0:\n",
    "        cur_rand = random.randint(1,cur_num_of_nodes)\n",
    "        layers.append(cur_rand)\n",
    "        cur_num_of_nodes -= cur_rand\n",
    "        cur_depth -= 1\n",
    "    if cur_depth == 0 and cur_num_of_nodes > 0:\n",
    "        layers[-1] =layers[-1] + cur_num_of_nodes\n",
    "    print(layers)\n",
    "    count = num_of_nodes\n",
    "    \n",
    "    for x in range(len(layers)-1,0,-1):\n",
    "        print(\"x\",x,layers[x])\n",
    "        for num_of_neighbors in range(layers[x-1]):\n",
    "            cur_count = count - layers[x]\n",
    "            print(\"cur_count\",cur_count)\n",
    "            for num_neighbors in range(layers[x]):\n",
    "                print(cur_count)\n",
    "                cur_count -= 1\n",
    "            count -= 1\n",
    "            \n",
    "            \n",
    "        \n",
    "    print(\"#############\")\n",
    "    \n",
    "    \n",
    "    \n",
    "    list_n = list(node_list)\n",
    "    for x in list_n:\n",
    "        print(node_list[x].processid)\n",
    "# keep.update(np.arange(11))\n",
    "\n",
    "create_tree(10,5)\n",
    "        \n",
    "        \n",
    "        \n",
    "        \n",
    "    \n",
    "    \n",
    "    \n",
    "    \n",
    "        \n",
    "    "
   ]
  },
  {
   "cell_type": "code",
   "execution_count": null,
   "id": "ac7af14b-892f-4de1-b673-a3705b2ebe2e",
   "metadata": {},
   "outputs": [],
   "source": []
  },
  {
   "cell_type": "code",
   "execution_count": null,
   "id": "d1fbd2a8-1c20-47d0-a614-550bdeb5aeb7",
   "metadata": {},
   "outputs": [],
   "source": []
  }
 ],
 "metadata": {
  "kernelspec": {
   "display_name": "Python 3 (ipykernel)",
   "language": "python",
   "name": "python3"
  },
  "language_info": {
   "codemirror_mode": {
    "name": "ipython",
    "version": 3
   },
   "file_extension": ".py",
   "mimetype": "text/x-python",
   "name": "python",
   "nbconvert_exporter": "python",
   "pygments_lexer": "ipython3",
   "version": "3.11.5"
  }
 },
 "nbformat": 4,
 "nbformat_minor": 5
}
